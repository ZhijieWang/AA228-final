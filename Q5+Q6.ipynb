{
 "cells": [
  {
   "cell_type": "markdown",
   "metadata": {
    "deletable": true,
    "editable": true
   },
   "source": [
    "# Code for Question 5 and Question 6"
   ]
  },
  {
   "cell_type": "code",
   "execution_count": 1,
   "metadata": {
    "collapsed": false,
    "deletable": true,
    "editable": true
   },
   "outputs": [],
   "source": [
    "from copy import copy\n",
    "import networkx as nx\n",
    "import matplotlib.pyplot as plt\n",
    "import numpy as np\n",
    "theta = 0.5\n",
    "# observation probability does not change according to original action.\n",
    "# if we believe the person is at home, then the probability of show up at 1 interval is theta\n",
    "# O(show| home) = theta, O(!show|home)=1-theta\n",
    "# if we beleive the person is not at home, then O(show|!home) = 0 and O(!show|!home) = 1\n",
    "observation = np.asarray([[theta,1-theta],[0,1]])\n",
    "# transition does not change acorrding to action\n",
    "transition = np.asarray([[1,0],[0,1]])\n",
    "#Basic data strucutre to hold information\n",
    "class Home():\n",
    "    index = None\n",
    "    light = False\n",
    "    def __init__(self, index, light):\n",
    "        self.index, self.light = index, light\n",
    "    def copy(self):\n",
    "        return self.index, self.light\n",
    "    def __repr__(self):\n",
    "        return \"House \" + str(self.index)+ \" with light \" + str(self.light)\n",
    "class Node():\n",
    "    parent = None\n",
    "    state = None\n",
    "    level = 0\n",
    "    left, right = None, None\n",
    "    def __init__(self,state, level):\n",
    "        self.state, self.level = state, level\n",
    "        if self.state.light:\n",
    "            self.belief =  [0.85, 0.15]\n",
    "        else:\n",
    "            self.belief = [0.05, 0.95]\n",
    "    def __repr__(self):\n",
    "        return str(self.state) + \" with belief of \" + str(self.belief)\n",
    "h = Home(1,True)\n",
    "root = Node(h, 0)\n",
    "queue = [(2, True), (3, False), (4, False), (5,False)]\n",
    "# count stands for how many times the current node has been used/waited\n",
    "# max_count stands for how many times the node can be repreaeted\n",
    "def build(node, queue, depth, count=100, max_count = 100):\n",
    "    if len(queue)> 0 and depth>0:\n",
    "        if count>0:\n",
    "    # left means no show and wait, state transition is st+1=st\n",
    "            node.left = Node(Home(*node.state.copy()), node.level+1)\n",
    "            node.left.parent = node\n",
    "            build(node.left, queue, depth -1, count -1, max_count)\n",
    "    # right show and move, state transistion is st+1 = next house in queue\n",
    "        node.right = Node(Home(*queue[0]), node.level+1)\n",
    "        node.right.parent = node\n",
    "        build(node.right, queue[1:], depth-1, max_count-1, max_count)\n",
    "\n",
    "def belief_update(node):\n",
    "    if node.left:\n",
    "        belief = np.sum(observation*transition*node.belief,axis=1)\n",
    "        belief=belief/np.sum(belief)\n",
    "        node.left.belief = belief\n",
    "        belief_update(node.left)\n",
    "    if node.right:\n",
    "        belief_update(node.right)\n",
    "# utility\n",
    "def utility (node):\n",
    "    # left + right\n",
    "    # the left is no show, based on current belief\n",
    "    # the right is show, based on current belieft, it is theta * belief(home)\n",
    "    retval = 0\n",
    "    if node.left:\n",
    "        retval += (utility(node.left))*(1-theta*node.belief[0]) \n",
    "    if node.right:\n",
    "        retval += (1+utility(node.right))*theta*node.belief[0]        \n",
    "\n",
    "    return retval"
   ]
  },
  {
   "cell_type": "code",
   "execution_count": 2,
   "metadata": {
    "collapsed": false,
    "deletable": true,
    "editable": true
   },
   "outputs": [
    {
     "name": "stdout",
     "output_type": "stream",
     "text": [
      "1.61034513102\n"
     ]
    }
   ],
   "source": [
    "build(root,queue, 18)\n",
    "belief_update(root)\n",
    "print(utility(root))"
   ]
  },
  {
   "cell_type": "markdown",
   "metadata": {
    "collapsed": true,
    "deletable": true,
    "editable": true
   },
   "source": [
    "# Q5 Final Answer is 1.61034513102"
   ]
  },
  {
   "cell_type": "code",
   "execution_count": 3,
   "metadata": {
    "collapsed": false,
    "deletable": true,
    "editable": true
   },
   "outputs": [
    {
     "name": "stdout",
     "output_type": "stream",
     "text": [
      "1.32217378082\n"
     ]
    }
   ],
   "source": [
    "build(root,queue, 18,2,3)\n",
    "belief_update(root)\n",
    "print(utility(root))"
   ]
  },
  {
   "cell_type": "markdown",
   "metadata": {
    "deletable": true,
    "editable": true
   },
   "source": [
    "# Q6 Final Answer is 1.32217378082"
   ]
  },
  {
   "cell_type": "code",
   "execution_count": 4,
   "metadata": {
    "collapsed": false,
    "deletable": true,
    "editable": true
   },
   "outputs": [
    {
     "name": "stdout",
     "output_type": "stream",
     "text": [
      "House 1 with light True with belief of [0.85, 0.15]\n",
      "House 2 with light True with belief of [0.85, 0.15]\n",
      "House 1 with light True with belief of [0.85, 0.15]\n",
      "House 2 with light True with belief of [0.85, 0.15]\n",
      "None\n",
      "None\n",
      "Ends\n",
      "Ends\n",
      "None\n",
      "None\n",
      "Ends\n",
      "Ends\n",
      "House 2 with light True with belief of [0.85, 0.15]\n",
      "House 3 with light False with belief of [0.05, 0.95]\n",
      "None\n",
      "None\n",
      "Ends\n",
      "Ends\n",
      "None\n",
      "None\n",
      "Ends\n",
      "Ends\n",
      "[ 0.73913043  0.26086957]\n",
      "House 1 with light True with belief of [0.85, 0.15]\n",
      "House 1 with light True with belief of [0.85, 0.15]\n",
      "House 2 with light True with belief of [0.85, 0.15]\n",
      "0.425\n",
      "0\n",
      "0\n",
      "House 1 with light True with belief of [0.85, 0.15]\n",
      "House 2 with light True with belief of [0.85, 0.15]\n",
      "House 3 with light False with belief of [0.05, 0.95]\n",
      "House 1 with light True with belief of [ 0.73913043  0.26086957]\n",
      "House 1 with light True with belief of [ 0.5862069  0.4137931]\n",
      "0.818125\n",
      "0.369565217391\n",
      "0.425\n"
     ]
    }
   ],
   "source": [
    "build(root,queue, 2)\n",
    "def get_children(node):\n",
    "    print(node.left)\n",
    "    print(node.right)\n",
    "    if node.left:\n",
    "        get_children(node.left)\n",
    "    else:\n",
    "        print(\"Ends\")\n",
    "    if node.right:\n",
    "        get_children(node.right)\n",
    "    else:\n",
    "        print(\"Ends\")\n",
    "get_children(root)\n",
    "# verify update belief code\n",
    "belief = [0.85, 0.15]\n",
    "show = False\n",
    "belief = np.sum(observation*transition*belief,axis=1)\n",
    "belief=belief/np.sum(belief)\n",
    "print(belief)\n",
    "    \n",
    "# verify tree and utility calculation\n",
    "build(root,queue, 1)\n",
    "print(root)\n",
    "print(root.left)\n",
    "print(root.right)\n",
    "print(utility(root))\n",
    "print(utility(root.left))\n",
    "print(utility(root.right))\n",
    "\n",
    "# verify\n",
    "build(root,queue, 2)\n",
    "belief_update(root)\n",
    "print(root)\n",
    "print(root.right)\n",
    "print(root.right.right)\n",
    "print(root.left)\n",
    "print(root.left.left)\n",
    "print(utility(root))\n",
    "print(utility(root.left))\n",
    "print(utility(root.right))"
   ]
  }
 ],
 "metadata": {
  "kernelspec": {
   "display_name": "Python 3",
   "language": "python",
   "name": "python3"
  },
  "language_info": {
   "codemirror_mode": {
    "name": "ipython",
    "version": 3
   },
   "file_extension": ".py",
   "mimetype": "text/x-python",
   "name": "python",
   "nbconvert_exporter": "python",
   "pygments_lexer": "ipython3",
   "version": "3.6.0"
  }
 },
 "nbformat": 4,
 "nbformat_minor": 2
}
