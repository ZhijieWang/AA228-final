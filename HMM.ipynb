{
 "cells": [
  {
   "cell_type": "code",
   "execution_count": 2,
   "metadata": {},
   "outputs": [],
   "source": [
    "#import pomegranate\n",
    "#pomegranate.utils.enable_gpu()\n",
    "from IPython.display import HTML, display\n",
    "\n",
    "from __future__ import print_function\n",
    "import warnings\n",
    "warnings.filterwarnings(\"ignore\", category=DeprecationWarning) \n",
    "import datetime\n",
    "import pandas\n",
    "import numpy as np\n",
    "np.set_printoptions(threshold=np.nan)\n",
    "from matplotlib import cm, pyplot as plt\n",
    "from pomegranate import *\n",
    "pandas.options.display.max_rows=500\n",
    "from random import shuffle\n",
    "from sklearn.metrics import accuracy_score"
   ]
  },
  {
   "cell_type": "code",
   "execution_count": 3,
   "metadata": {},
   "outputs": [],
   "source": [
    "def load_data(year=\"2017\", airport=None):\n",
    "    data=pandas.read_csv(\"./data/processed/\"+year+\".csv\")\n",
    "    # define delay as DepDelay > 30 or ArrDelay>30 -- which implies traveler anxious at airport or miss connection flight\n",
    "    data[\"Delay\"] = ((data[\"DepDelay\"] > 30) | (data[\"ArrDelay\"] > 30))*1\n",
    "\n",
    "    # discretize ArrTime, DepTime, AirTime,Distance\n",
    "    # ArrTime, DepTime are divided by 100, because 22:30 is sored as 2230.\n",
    "    # AirTime is divided into hours\n",
    "    # Distance is divided by 250\n",
    "    data = data.sort_values(['Year', 'Month','DayofMonth','CRSDepTime'], ascending=[True, True, True, True])\n",
    "    data[\"ArrTime\"] = data[\"ArrTime\"]//100\n",
    "    data[\"DepTime\"] = data[\"DepTime\"]//100\n",
    "    data[\"AirTime\"] = data[\"AirTime\"]//60\n",
    "    data[\"Distance\"] = data[\"Distance\"] // 250\n",
    "    label_set = pandas.factorize(data[\"UniqueCarrier\"])\n",
    "    data[\"UniqueCarrier\"]=label_set[0]\n",
    "    # for keep data from certain airport\n",
    "\n",
    "    if airport:\n",
    "        data = data.query(\"Origin==\\'\"+airport+\"\\'\")\n",
    "        # data = data[data[\"Origin\"]==\"IAH\"]\n",
    "    data = data.drop(\"Dest\",1)\n",
    "    data = data.drop(\"Origin\",1)\n",
    "    data = data.drop(\"Quarter\",1)\n",
    "    display(data.head())\n",
    "    return data\n",
    "\n",
    "# utility for model scoring\n",
    "# the model has two states, 0 or 1. The state 0 and 1 may mean different things for each run, so it may need to be flipped.\n",
    "def score_model(model, data, truth, flip=False):\n",
    "    if flip:        \n",
    "        return accuracy_score(model.predict(data),truth)\n",
    "    else:\n",
    "        return 1 - accuracy_score(model.predict(data),truth)\n",
    "# score the model given validation serires\n",
    "def score_model_given_series(model, validate_x, validate_y):\n",
    "    # is 0 delay or is 1 delay\n",
    "    zero_score = score_model(model, validate_x[0], validate_y[0])\n",
    "    one_score = score_model(model, validate_x[0], validate_y[0], True)\n",
    "    flip = None\n",
    "#     if zero_score > one_score:\n",
    "#         flip = False\n",
    "#     else:\n",
    "#         flip = True\n",
    "    sum_score = 0\n",
    "    for i in range(len(validate_x)):\n",
    "        score = score_model(model, validate_x[i], validate_y[i], flip)\n",
    "        sum_score += score\n",
    "    print(sum_score/len(validate_x))"
   ]
  },
  {
   "cell_type": "code",
   "execution_count": 4,
   "metadata": {},
   "outputs": [
    {
     "data": {
      "text/html": [
       "<div>\n",
       "<table border=\"1\" class=\"dataframe\">\n",
       "  <thead>\n",
       "    <tr style=\"text-align: right;\">\n",
       "      <th></th>\n",
       "      <th>Year</th>\n",
       "      <th>Month</th>\n",
       "      <th>DayofMonth</th>\n",
       "      <th>DayOfWeek</th>\n",
       "      <th>UniqueCarrier</th>\n",
       "      <th>FlightNum</th>\n",
       "      <th>OriginAirportID</th>\n",
       "      <th>DestAirportID</th>\n",
       "      <th>ArrTime</th>\n",
       "      <th>AirTime</th>\n",
       "      <th>Distance</th>\n",
       "      <th>DepDelay</th>\n",
       "      <th>ArrDelay</th>\n",
       "      <th>DepTime</th>\n",
       "      <th>CRSDepTime</th>\n",
       "      <th>Cancelled</th>\n",
       "      <th>Delay</th>\n",
       "    </tr>\n",
       "  </thead>\n",
       "  <tbody>\n",
       "    <tr>\n",
       "      <th>21196400</th>\n",
       "      <td>2013</td>\n",
       "      <td>1</td>\n",
       "      <td>1</td>\n",
       "      <td>2</td>\n",
       "      <td>8</td>\n",
       "      <td>6059</td>\n",
       "      <td>10397</td>\n",
       "      <td>12264</td>\n",
       "      <td>7.0</td>\n",
       "      <td>1.0</td>\n",
       "      <td>2.0</td>\n",
       "      <td>-3.0</td>\n",
       "      <td>-8.0</td>\n",
       "      <td>5.0</td>\n",
       "      <td>545</td>\n",
       "      <td>0.0</td>\n",
       "      <td>0</td>\n",
       "    </tr>\n",
       "    <tr>\n",
       "      <th>21204954</th>\n",
       "      <td>2013</td>\n",
       "      <td>1</td>\n",
       "      <td>1</td>\n",
       "      <td>2</td>\n",
       "      <td>12</td>\n",
       "      <td>425</td>\n",
       "      <td>10397</td>\n",
       "      <td>11292</td>\n",
       "      <td>8.0</td>\n",
       "      <td>3.0</td>\n",
       "      <td>4.0</td>\n",
       "      <td>76.0</td>\n",
       "      <td>90.0</td>\n",
       "      <td>7.0</td>\n",
       "      <td>605</td>\n",
       "      <td>0.0</td>\n",
       "      <td>1</td>\n",
       "    </tr>\n",
       "    <tr>\n",
       "      <th>21272158</th>\n",
       "      <td>2013</td>\n",
       "      <td>1</td>\n",
       "      <td>1</td>\n",
       "      <td>2</td>\n",
       "      <td>1</td>\n",
       "      <td>429</td>\n",
       "      <td>10397</td>\n",
       "      <td>11298</td>\n",
       "      <td>7.0</td>\n",
       "      <td>1.0</td>\n",
       "      <td>2.0</td>\n",
       "      <td>-6.0</td>\n",
       "      <td>-26.0</td>\n",
       "      <td>5.0</td>\n",
       "      <td>605</td>\n",
       "      <td>0.0</td>\n",
       "      <td>0</td>\n",
       "    </tr>\n",
       "    <tr>\n",
       "      <th>21519064</th>\n",
       "      <td>2013</td>\n",
       "      <td>1</td>\n",
       "      <td>1</td>\n",
       "      <td>2</td>\n",
       "      <td>9</td>\n",
       "      <td>4652</td>\n",
       "      <td>10397</td>\n",
       "      <td>12953</td>\n",
       "      <td>10.0</td>\n",
       "      <td>1.0</td>\n",
       "      <td>3.0</td>\n",
       "      <td>137.0</td>\n",
       "      <td>120.0</td>\n",
       "      <td>8.0</td>\n",
       "      <td>610</td>\n",
       "      <td>0.0</td>\n",
       "      <td>1</td>\n",
       "    </tr>\n",
       "    <tr>\n",
       "      <th>21199942</th>\n",
       "      <td>2013</td>\n",
       "      <td>1</td>\n",
       "      <td>1</td>\n",
       "      <td>2</td>\n",
       "      <td>8</td>\n",
       "      <td>4114</td>\n",
       "      <td>10397</td>\n",
       "      <td>12266</td>\n",
       "      <td>9.0</td>\n",
       "      <td>2.0</td>\n",
       "      <td>2.0</td>\n",
       "      <td>132.0</td>\n",
       "      <td>138.0</td>\n",
       "      <td>8.0</td>\n",
       "      <td>620</td>\n",
       "      <td>0.0</td>\n",
       "      <td>1</td>\n",
       "    </tr>\n",
       "  </tbody>\n",
       "</table>\n",
       "</div>"
      ],
      "text/plain": [
       "          Year  Month  DayofMonth  DayOfWeek  UniqueCarrier  FlightNum  \\\n",
       "21196400  2013      1           1          2              8       6059   \n",
       "21204954  2013      1           1          2             12        425   \n",
       "21272158  2013      1           1          2              1        429   \n",
       "21519064  2013      1           1          2              9       4652   \n",
       "21199942  2013      1           1          2              8       4114   \n",
       "\n",
       "          OriginAirportID  DestAirportID  ArrTime  AirTime  Distance  \\\n",
       "21196400            10397          12264      7.0      1.0       2.0   \n",
       "21204954            10397          11292      8.0      3.0       4.0   \n",
       "21272158            10397          11298      7.0      1.0       2.0   \n",
       "21519064            10397          12953     10.0      1.0       3.0   \n",
       "21199942            10397          12266      9.0      2.0       2.0   \n",
       "\n",
       "          DepDelay  ArrDelay  DepTime  CRSDepTime  Cancelled  Delay  \n",
       "21196400      -3.0      -8.0      5.0         545        0.0      0  \n",
       "21204954      76.0      90.0      7.0         605        0.0      1  \n",
       "21272158      -6.0     -26.0      5.0         605        0.0      0  \n",
       "21519064     137.0     120.0      8.0         610        0.0      1  \n",
       "21199942     132.0     138.0      8.0         620        0.0      1  "
      ]
     },
     "metadata": {},
     "output_type": "display_data"
    }
   ],
   "source": [
    "data = load_data(\"data_all\", \"ATL\")"
   ]
  },
  {
   "cell_type": "code",
   "execution_count": 10,
   "metadata": {},
   "outputs": [],
   "source": [
    "# splice_series to day\n",
    "def splice_series(input_data, split=0.8):\n",
    "    # split is the split ratio for train vs validate\n",
    "    x = []\n",
    "    y = []\n",
    "#     \"DestAirportID\", \"AirTime\", \"CRSDepTime\", \"Delay\"\n",
    "    features = [ \"DestAirportID\", \"AirTime\", \"CRSDepTime\", \"Delay\"]\n",
    "    for year in input_data.Year.unique():\n",
    "        for month in input_data.Month.unique():\n",
    "            for day in input_data.DayofMonth.unique():\n",
    "                hold = input_data[(input_data.Month == month) & (input_data.DayofMonth==day)& (input_data.Year==year)]\n",
    "                hold = hold.sort_values(axis=0,by=\"CRSDepTime\")[features]\n",
    "                if len(hold>0):\n",
    "#                     x.append(hold.loc[:, hold.columns != 'Delay'].as_matrix().astype(int).tolist())\n",
    "                    x.append(hold.as_matrix().astype(int))\n",
    "                    y.append(hold.loc[:, hold.columns == 'Delay'].as_matrix().astype(int).flatten())\n",
    "    x = np.array(x) \n",
    "    y = np.array(y)\n",
    "    indexer = np.random.permutation(x.shape[0])\n",
    "    x = x[indexer]\n",
    "    y = y[indexer]\n",
    "    train_x= x[:int(x.shape[0]*split)]\n",
    "    train_y = y[:int(x.shape[0]*split)]    \n",
    "    validate_x = x[int(x.shape[0]*split):]\n",
    "    validate_y = y[int(x.shape[0]*split):]    \n",
    "    return train_x, train_y, validate_x, validate_y\n",
    "#     return validate_x, validate_y, train_x, train_y"
   ]
  },
  {
   "cell_type": "code",
   "execution_count": 11,
   "metadata": {},
   "outputs": [],
   "source": [
    "train_x, train_y, validate_x, validate_y = splice_series(data)\n"
   ]
  },
  {
   "cell_type": "code",
   "execution_count": 13,
   "metadata": {},
   "outputs": [
    {
     "data": {
      "text/plain": [
       "1327207.544556913"
      ]
     },
     "execution_count": 13,
     "metadata": {},
     "output_type": "execute_result"
    }
   ],
   "source": [
    "d1 = DiscreteDistribution({1: 0.9, 0:0.1})\n",
    "d2 = DiscreteDistribution({1: 0.5, 0:0.5})\n",
    "s1 = State( d1, name='congested' )\n",
    "s2 = State( d2, name='non congested' )\n",
    "model = HiddenMarkovModel()\n",
    "\n",
    "model.add_states(s1, s2)\n",
    "model.add_transition( model.start, s1, 0.5 )\n",
    "model.add_transition( model.start, s2, 0.5 )\n",
    "model.add_transition( s1, s1, 0.9 )\n",
    "model.add_transition( s1, s2, 0.1 )\n",
    "model.add_transition( s2, s1, 0.5 )\n",
    "model.add_transition( s2, s2, 0.5 )\n",
    "model.bake()\n",
    "model.states\n",
    "# print(train_y[0].shape)\n",
    "\n",
    "model.fit(train_y)\n",
    "# score_model_given_series(model, validate_y,  validate_y)\n",
    "# print(np.mean(data.Delay))"
   ]
  },
  {
   "cell_type": "code",
   "execution_count": 36,
   "metadata": {
    "scrolled": true
   },
   "outputs": [
    {
     "name": "stdout",
     "output_type": "stream",
     "text": [
      "[[ 0.03669061  0.96330939]\n",
      " [ 0.04925687  0.95074313]\n",
      " [ 0.07346684  0.92653316]\n",
      " [ 0.12008726  0.87991274]\n",
      " [ 0.2098514   0.7901486 ]\n",
      " [ 0.38267961  0.61732039]\n",
      " [ 0.71543287  0.28456713]\n",
      " [ 0.76704523  0.23295477]\n",
      " [ 0.77492216  0.22507784]\n",
      " [ 0.77529583  0.22470417]]\n"
     ]
    }
   ],
   "source": [
    "validate_x[0]\n",
    "start = len(validate_x[0])//2\n",
    "sample = list(validate_x[0][:start])\n",
    "sample.append(validate_x[0][start])\n",
    "# print(np.array(sample))\n",
    "# sample = [[11057,0,   545,     0],\n",
    "#  [12953,     1,   550,     0],\n",
    "#  [11292,     2,   600,     0],\n",
    "#  [13204,     1,   600,     0],\n",
    "#  [12953,     1,   600,     0],\n",
    "#  [13232,     1,   605,     0],\n",
    "#  [10821,     1,   615,     0]]\n",
    "1\n",
    "print(model.predict_proba([0,0,0,0,0,0,0,0,0,0,]))\n",
    "# sample[-1][1]\n",
    "# print(model.log_probability(sample))\n"
   ]
  },
  {
   "cell_type": "code",
   "execution_count": 33,
   "metadata": {},
   "outputs": [
    {
     "data": {
      "text/plain": [
       "[{\n",
       "     \"class\" : \"State\",\n",
       "     \"distribution\" : {\n",
       "         \"class\" : \"Distribution\",\n",
       "         \"name\" : \"DiscreteDistribution\",\n",
       "         \"parameters\" : [\n",
       "             {\n",
       "                 \"1\" : 0.519103157079172,\n",
       "                 \"0\" : 0.4808968429208308\n",
       "             }\n",
       "         ],\n",
       "         \"frozen\" : false\n",
       "     },\n",
       "     \"name\" : \"congested\",\n",
       "     \"weight\" : 1.0\n",
       " }, {\n",
       "     \"class\" : \"State\",\n",
       "     \"distribution\" : {\n",
       "         \"class\" : \"Distribution\",\n",
       "         \"name\" : \"DiscreteDistribution\",\n",
       "         \"parameters\" : [\n",
       "             {\n",
       "                 \"1\" : 0.08003540146546236,\n",
       "                 \"0\" : 0.919964598534537\n",
       "             }\n",
       "         ],\n",
       "         \"frozen\" : false\n",
       "     },\n",
       "     \"name\" : \"non congested\",\n",
       "     \"weight\" : 1.0\n",
       " }, {\n",
       "     \"class\" : \"State\",\n",
       "     \"distribution\" : null,\n",
       "     \"name\" : \"None-start\",\n",
       "     \"weight\" : 1.0\n",
       " }, {\n",
       "     \"class\" : \"State\",\n",
       "     \"distribution\" : null,\n",
       "     \"name\" : \"None-end\",\n",
       "     \"weight\" : 1.0\n",
       " }]"
      ]
     },
     "execution_count": 33,
     "metadata": {},
     "output_type": "execute_result"
    }
   ],
   "source": [
    "model.states"
   ]
  },
  {
   "cell_type": "code",
   "execution_count": 39,
   "metadata": {},
   "outputs": [
    {
     "name": "stderr",
     "output_type": "stream",
     "text": [
      "IOPub data rate exceeded.\n",
      "The notebook server will temporarily stop sending output\n",
      "to the client in order to avoid crashing it.\n",
      "To change this limit, set the config variable\n",
      "`--NotebookApp.iopub_data_rate_limit`.\n",
      "\n",
      "Current values:\n",
      "NotebookApp.iopub_data_rate_limit=1000000.0 (bytes/sec)\n",
      "NotebookApp.rate_limit_window=3.0 (secs)\n",
      "\n"
     ]
    }
   ],
   "source": [
    "print(train_x[:100])"
   ]
  },
  {
   "cell_type": "code",
   "execution_count": 40,
   "metadata": {},
   "outputs": [
    {
     "data": {
      "text/plain": [
       "1734"
      ]
     },
     "execution_count": 40,
     "metadata": {},
     "output_type": "execute_result"
    }
   ],
   "source": [
    "len(validate_x)+len(train_x)"
   ]
  },
  {
   "cell_type": "code",
   "execution_count": 41,
   "metadata": {},
   "outputs": [
    {
     "name": "stdout",
     "output_type": "stream",
     "text": [
      "1789222\n"
     ]
    }
   ],
   "source": [
    "print(len(data))"
   ]
  },
  {
   "cell_type": "code",
   "execution_count": 127,
   "metadata": {},
   "outputs": [
    {
     "data": {
      "image/png": "[encoded data removed]",
      "text/plain": [
       "<matplotlib.figure.Figure at 0x1230da908>"
      ]
     },
     "metadata": {},
     "output_type": "display_data"
    }
   ],
   "source": [
    "s = validate_x[5][:,-1]\n",
    "\n",
    "fig = plt.figure(figsize=(20, 4))\n",
    "ax = fig.add_subplot(211)\n",
    "\n",
    "ax.plot(p, 'ro')\n",
    "plt.xlabel('Smarts')\n",
    "plt.ylabel('Probability')\n",
    "plt.yticks([0,1])\n",
    "ay = fig.add_subplot(212)\n",
    "p = pandas.DataFrame(s)\n",
    "s = 1-np.array(model.predict(validate_x[5][:,-1]))\n",
    "p = pandas.DataFrame(s)\n",
    "ay.plot(p,'bo')\n",
    "plt.yticks([0,1])\n",
    "\n",
    "\n",
    "plt.xlabel('Smarts')\n",
    "plt.ylabel('Probability')\n",
    "plt.show()\n"
   ]
  },
  {
   "cell_type": "code",
   "execution_count": 146,
   "metadata": {},
   "outputs": [
    {
     "data": {
      "image/png": "[encoded data removed]",
      "text/plain": [
       "<matplotlib.figure.Figure at 0x122a462e8>"
      ]
     },
     "metadata": {},
     "output_type": "display_data"
    }
   ],
   "source": [
    "s = 1-np.array(model.predict(validate_x[4][:,-1]))\n",
    "# s = validate_x[5][:,-1]\n",
    "p = pandas.DataFrame(s)\n",
    "fig = plt.figure(figsize=(20, 2))\n",
    "ax = fig.add_subplot(111)\n",
    "\n",
    "ax.plot(p, 'bo', label='sine')\n",
    "plt.yticks([0, 1])\n",
    "plt.xticks([0,1500])\n",
    "plt.xlabel(\"Time\")\n",
    "plt.ylabel(\"Airport Status\")\n",
    "L=plt.legend()\n",
    "L.get_texts()[0].set_text('1 for congested and 0 for non-congested')\n",
    "plt.show()"
   ]
  },
  {
   "cell_type": "code",
   "execution_count": 145,
   "metadata": {},
   "outputs": [
    {
     "data": {
      "image/png": "[encoded data removed]",
      "text/plain": [
       "<matplotlib.figure.Figure at 0x11f104588>"
      ]
     },
     "metadata": {},
     "output_type": "display_data"
    }
   ],
   "source": [
    "# s = model.predict(validate_x[5][:,-1])\n",
    "s = validate_x[4][:,-1]\n",
    "p = pandas.DataFrame(s)\n",
    "fig = plt.figure(figsize=(20, 2))\n",
    "ax = fig.add_subplot(111)\n",
    "ax.plot(p, 'ro', label='sine')\n",
    "plt.yticks([0, 1])\n",
    "plt.xticks([0,1500])\n",
    "plt.xlabel(\"Time\")\n",
    "plt.ylabel(\"Flight Delay\")\n",
    "L=plt.legend()\n",
    "L.get_texts()[0].set_text('1 for delay and 0 for non-delay')\n",
    "plt.show()"
   ]
  },
  {
   "cell_type": "code",
   "execution_count": 152,
   "metadata": {},
   "outputs": [
    {
     "name": "stdout",
     "output_type": "stream",
     "text": [
      "0.0767195767196\n"
     ]
    }
   ],
   "source": [
    "print(np.mean(validate_x[5][:,-1]))"
   ]
  },
  {
   "cell_type": "code",
   "execution_count": 149,
   "metadata": {},
   "outputs": [
    {
     "data": {
      "text/plain": [
       "1133"
      ]
     },
     "execution_count": 149,
     "metadata": {},
     "output_type": "execute_result"
    }
   ],
   "source": [
    "len(validate_x[5][:-1])"
   ]
  },
  {
   "cell_type": "code",
   "execution_count": 153,
   "metadata": {},
   "outputs": [
    {
     "name": "stdout",
     "output_type": "stream",
     "text": [
      "0.500544069641\n"
     ]
    }
   ],
   "source": [
    "print(np.mean(validate_x[4][:,-1]))"
   ]
  },
  {
   "cell_type": "code",
   "execution_count": 154,
   "metadata": {},
   "outputs": [
    {
     "data": {
      "text/plain": [
       "918"
      ]
     },
     "execution_count": 154,
     "metadata": {},
     "output_type": "execute_result"
    }
   ],
   "source": [
    "len(validate_x[4][:-1])"
   ]
  },
  {
   "cell_type": "code",
   "execution_count": 156,
   "metadata": {},
   "outputs": [
    {
     "data": {
      "image/png": "[encoded data removed]",
      "text/plain": [
       "<matplotlib.figure.Figure at 0x116e57128>"
      ]
     },
     "metadata": {},
     "output_type": "display_data"
    }
   ],
   "source": [
    "model.plot()\n",
    "plt.show()"
   ]
  },
  {
   "cell_type": "code",
   "execution_count": 157,
   "metadata": {},
   "outputs": [
    {
     "data": {
      "text/plain": [
       "'{\\n    \"class\" : \"HiddenMarkovModel\",\\n    \"name\" : \"None\",\\n    \"start\" : {\\n        \"class\" : \"State\",\\n        \"distribution\" : null,\\n        \"name\" : \"None-start\",\\n        \"weight\" : 1.0\\n    },\\n    \"end\" : {\\n        \"class\" : \"State\",\\n        \"distribution\" : null,\\n        \"name\" : \"None-end\",\\n        \"weight\" : 1.0\\n    },\\n    \"states\" : [\\n        {\\n            \"class\" : \"State\",\\n            \"distribution\" : {\\n                \"class\" : \"Distribution\",\\n                \"name\" : \"DiscreteDistribution\",\\n                \"parameters\" : [\\n                    {\\n                        \"1\" : 0.519103157079172,\\n                        \"0\" : 0.4808968429208308\\n                    }\\n                ],\\n                \"frozen\" : false\\n            },\\n            \"name\" : \"congested\",\\n            \"weight\" : 1.0\\n        },\\n        {\\n            \"class\" : \"State\",\\n            \"distribution\" : {\\n                \"class\" : \"Distribution\",\\n                \"name\" : \"DiscreteDistribution\",\\n                \"parameters\" : [\\n                    {\\n                        \"1\" : 0.08003540146546236,\\n                        \"0\" : 0.919964598534537\\n                    }\\n                ],\\n                \"frozen\" : false\\n            },\\n            \"name\" : \"non congested\",\\n            \"weight\" : 1.0\\n        },\\n        {\\n            \"class\" : \"State\",\\n            \"distribution\" : null,\\n            \"name\" : \"None-start\",\\n            \"weight\" : 1.0\\n        },\\n        {\\n            \"class\" : \"State\",\\n            \"distribution\" : null,\\n            \"name\" : \"None-end\",\\n            \"weight\" : 1.0\\n        }\\n    ],\\n    \"end_index\" : 3,\\n    \"start_index\" : 2,\\n    \"silent_index\" : 2,\\n    \"edges\" : [\\n        [\\n            2,\\n            0,\\n            0.004778975462124516,\\n            0.5,\\n            null\\n        ],\\n        [\\n            2,\\n            1,\\n            0.9952210245378754,\\n            0.5,\\n            null\\n        ],\\n        [\\n            0,\\n            0,\\n            0.9927731670101951,\\n            0.9,\\n            null\\n        ],\\n        [\\n            0,\\n            1,\\n            0.007226832989804837,\\n            0.1,\\n            null\\n        ],\\n        [\\n            1,\\n            0,\\n            0.0008550629412804156,\\n            0.5,\\n            null\\n        ],\\n        [\\n            1,\\n            1,\\n            0.9991449370587197,\\n            0.5,\\n            null\\n        ]\\n    ],\\n    \"distribution ties\" : []\\n}'"
      ]
     },
     "execution_count": 157,
     "metadata": {},
     "output_type": "execute_result"
    }
   ],
   "source": [
    "model.to_json()\n"
   ]
  },
  {
   "cell_type": "code",
   "execution_count": null,
   "metadata": {},
   "outputs": [],
   "source": []
  }
 ],
 "metadata": {
  "kernelspec": {
   "display_name": "Python 3",
   "language": "python",
   "name": "python3"
  },
  "language_info": {
   "codemirror_mode": {
    "name": "ipython",
    "version": 3
   },
   "file_extension": ".py",
   "mimetype": "text/x-python",
   "name": "python",
   "nbconvert_exporter": "python",
   "pygments_lexer": "ipython3",
   "version": "3.6.0"
  }
 },
 "nbformat": 4,
 "nbformat_minor": 2
}
